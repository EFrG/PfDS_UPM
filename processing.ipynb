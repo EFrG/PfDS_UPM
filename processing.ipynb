{
 "cells": [
  {
   "cell_type": "code",
   "execution_count": 95,
   "metadata": {
    "collapsed": true
   },
   "outputs": [],
   "source": [
    "import pandas as pd\n",
    "import matplotlib.pyplot as plt\n",
    "import numpy as np\n",
    "import seaborn as sns\n",
    "import datetime\n",
    "import math"
   ]
  },
  {
   "cell_type": "code",
   "execution_count": 95,
   "outputs": [],
   "source": [],
   "metadata": {
    "collapsed": false,
    "pycharm": {
     "name": "#%%\n"
    }
   }
  },
  {
   "cell_type": "code",
   "execution_count": 96,
   "outputs": [],
   "source": [
    "data_amundi = pd.read_csv('./data/amundi-msci-wrld-ae-c.csv')\n",
    "data_amundi.name = 'amundi-msci-wrld-ae-c'\n",
    "\n",
    "data_db = pd.read_csv('./data/db-x-trackers-ii-global-sovereign-5.csv')\n",
    "data_db.name = 'db-x-trackers-ii-global-sovereign-5'\n",
    "\n",
    "data_ishares = pd.read_csv('./data/ishares-global-corporate-bond-$.csv')\n",
    "data_ishares.name = 'ishares-global-corporate-bond-$'\n",
    "\n",
    "data_spdr = pd.read_csv('./data/spdr-gold-trust.csv')\n",
    "data_spdr.name = 'spdr-gold-trust'\n",
    "\n",
    "data_us = pd.read_csv('./data/usdollar.csv')\n",
    "data_us.name = 'usdollar'\n",
    "\n",
    "data = [data_amundi, data_db, data_ishares, data_spdr, data_us]"
   ],
   "metadata": {
    "collapsed": false,
    "pycharm": {
     "name": "#%%\n"
    }
   }
  },
  {
   "cell_type": "code",
   "execution_count": 97,
   "outputs": [],
   "source": [
    "for dataframe in data:\n",
    "\n",
    "    for index, row in dataframe.iterrows():\n",
    "        dataframe.loc[index, 'Change %'] = dataframe.loc[index, 'Change %'][0:4]\n",
    "        dataframe.loc[index,'Change %'] = float(dataframe.loc[index,'Change %'])\n"
   ],
   "metadata": {
    "collapsed": false,
    "pycharm": {
     "name": "#%%\n"
    }
   }
  },
  {
   "cell_type": "code",
   "execution_count": 98,
   "outputs": [
    {
     "name": "stdout",
     "output_type": "stream",
     "text": [
      "amundi-msci-wrld-ae-c \n",
      " Returns: -4.88317528595171\n",
      "db-x-trackers-ii-global-sovereign-5 \n",
      " Returns: -0.22061140876142543\n",
      "ishares-global-corporate-bond-$ \n",
      " Returns: -3.7707764822624736\n",
      "spdr-gold-trust \n",
      " Returns: -19.29244225162594\n",
      "usdollar \n",
      " Returns: 7.171447631754506\n"
     ]
    }
   ],
   "source": [
    "def returns(assets):\n",
    "    current_value = assets[\"Price\"].tail(1)\n",
    "    buy_amount = assets.loc[0, 'Price']\n",
    "    return (current_value - buy_amount)/buy_amount *100\n",
    "\n",
    "for assets in data:\n",
    "    print(assets.name ,'\\n Returns:', float(returns(assets)))"
   ],
   "metadata": {
    "collapsed": false,
    "pycharm": {
     "name": "#%%\n"
    }
   }
  },
  {
   "cell_type": "code",
   "execution_count": 99,
   "outputs": [
    {
     "name": "stdout",
     "output_type": "stream",
     "text": [
      "amundi-msci-wrld-ae-c \n",
      " Volatility: 9.969930945960345e-15\n",
      "db-x-trackers-ii-global-sovereign-5 \n",
      " Volatility: 4.323298382496717e-14\n",
      "ishares-global-corporate-bond-$ \n",
      " Volatility: 4.1315551488913264e-14\n",
      "spdr-gold-trust \n",
      " Volatility: 1.134037818820385e-14\n",
      "usdollar \n",
      " Volatility: -3.9254559448960484e-13\n"
     ]
    }
   ],
   "source": [
    "def volatility(assets):\n",
    "    N = len(assets)\n",
    "    muX = assets['Change %'].sum()/len(assets)\n",
    "    sigmaX = math.sqrt(np.square(np.subtract(assets['Change %'], muX).mean()))\n",
    "    return sigmaX/muX*100\n",
    "\n",
    "for assets in data:\n",
    "    print(assets.name ,'\\n Volatility:', float(volatility(assets)))"
   ],
   "metadata": {
    "collapsed": false,
    "pycharm": {
     "name": "#%%\n"
    }
   }
  },
  {
   "cell_type": "code",
   "execution_count": 100,
   "outputs": [],
   "source": [
    "def value(shares, assets):\n",
    "    return sum(shares * assets['Price'])"
   ],
   "metadata": {
    "collapsed": false,
    "pycharm": {
     "name": "#%%\n"
    }
   }
  },
  {
   "cell_type": "markdown",
   "source": [
    "## Handle missing data"
   ],
   "metadata": {
    "collapsed": false,
    "pycharm": {
     "name": "#%% md\n"
    }
   }
  },
  {
   "cell_type": "code",
   "execution_count": 101,
   "outputs": [
    {
     "name": "stdout",
     "output_type": "stream",
     "text": [
      "          Date   Price Change %\n",
      "0   2020-01-02  194.59     0.97\n",
      "1   2020-01-03  194.12     -0.2\n",
      "2   2020-01-04  194.12     -0.2\n",
      "3   2020-01-05  194.12     -0.2\n",
      "4   2020-01-06  193.81     -0.1\n",
      "..         ...     ...      ...\n",
      "360 2020-12-27  203.19     0.32\n",
      "361 2020-12-28  204.02     0.41\n",
      "362 2020-12-29  204.00     -0.0\n",
      "363 2020-12-30  203.32     -0.3\n",
      "364 2020-12-31  204.58     0.62\n",
      "\n",
      "[365 rows x 3 columns]\n"
     ]
    }
   ],
   "source": [
    "# find missing dates for every asset\n",
    "\n",
    "#idx = pd.date_range('2020-01-01', '2020-12-31')\n",
    "\n",
    "# data_amundi.set_index('Date')\n",
    "# data_ishares.set_index('Date')\n",
    "# data_us.set_index('Date')\n",
    "# data_db.set_index('Date')\n",
    "# data_spdr.set_index('Date')\n",
    "\n",
    "data_amundi['Date'] =  pd.to_datetime(data_amundi['Date'], format='%Y-%m-%d')\n",
    "data_amundi = data_amundi.sort_values(by=['Date'], ascending=[True])\n",
    "data_amundi.set_index('Date', inplace=True)\n",
    "\n",
    "data_amundi_fill = data_amundi.resample('D').ffill().reset_index()\n",
    "print(data_amundi_fill)\n",
    "\n"
   ],
   "metadata": {
    "collapsed": false,
    "pycharm": {
     "name": "#%%\n"
    }
   }
  },
  {
   "cell_type": "markdown",
   "source": [
    "# Processing of all 126 asset allocation instances\n",
    "- open portfolios/portfolio_allocations.csv\n",
    "- calculate number of shares for each allocation depending on price at the relevant dates\n",
    "-"
   ],
   "metadata": {
    "collapsed": false,
    "pycharm": {
     "name": "#%% md\n"
    }
   }
  },
  {
   "cell_type": "code",
   "execution_count": 102,
   "outputs": [
    {
     "name": "stdout",
     "output_type": "stream",
     "text": [
      "Header of csv is ['ST', 'CB', 'PB', 'GO', 'CA'], describes the order of allocation of assets in the portfolio\n"
     ]
    }
   ],
   "source": [
    "import csv\n",
    "\n",
    "with open('portfolios/portfolio_allocations.csv', 'r', newline='') as f:\n",
    "    reader = csv.reader(f)\n",
    "    header = []\n",
    "    header = next(reader)\n",
    "    print(f\"Header of csv is {header}, describes the order of allocation of assets in the portfolio\")\n",
    "\n",
    "    rows = []\n",
    "    for row in reader:\n",
    "            rows.append(row)\n"
   ],
   "metadata": {
    "collapsed": false,
    "pycharm": {
     "name": "#%%\n"
    }
   }
  },
  {
   "cell_type": "markdown",
   "source": [
    "For every row we have the distribution of assets\n",
    "- extract the price of each asset on first and last day of interest to calculate yearly return and volatility\n",
    "- for reference and ease of comprehension\n",
    "\n",
    "| Reference |   Description   |   Variable   |\n",
    "|:-----------|:---------:|:---------------:|:------------:|\n",
    "| ST        |     stocks      | data_amundi  |\n",
    "| CB        | corporate bonds | data_ishares |\n",
    "| PB        |  public bonds   |   data_db    |\n",
    "| GO        |      gold       |  data_spdr   |\n",
    "| CA        |      cash       |   data_us    |\n",
    "\n",
    "- Regarding the use of share prices, in the case of cash (CA), the price is not obtained from the\n",
    "US Dollar index (described first part of assignment), but rather the purchase price (or cost) is\n",
    "always considered as 1$."
   ],
   "metadata": {
    "collapsed": false,
    "pycharm": {
     "name": "#%% md\n"
    }
   }
  },
  {
   "cell_type": "code",
   "execution_count": 103,
   "outputs": [],
   "source": [
    "START_DATE = '01/01/2020'\n",
    "STOP_DATE = '12/31/2020'\n",
    "\n",
    "#order the dataframes by date\n",
    "data_amundi = data_amundi.sort_values(by=[\"Date\"], ascending=True)\n",
    "data_db = data_db.sort_values(by=[\"Date\"], ascending=True)\n",
    "data_ishares = data_ishares.sort_values(by=[\"Date\"], ascending=True)\n",
    "data_spdr = data_spdr.sort_values(by=[\"Date\"], ascending=True)\n",
    "data_us = data_us.sort_values(by=[\"Date\"], ascending=True)\n",
    "\n",
    "#values of interest are the following\n",
    "start_ST = data_amundi['Price'].iloc[0]\n",
    "start_CB = data_ishares['Price'].iloc[0]\n",
    "start_PB = data_db['Price'].iloc[0]\n",
    "start_GO = data_spdr['Price'].iloc[0]\n",
    "start_CA = 1.0\n",
    "\n",
    "end_ST = data_amundi['Price'].iloc[-1]\n",
    "end_CB = data_ishares['Price'].iloc[-1]\n",
    "end_PB = data_db['Price'].iloc[-1]\n",
    "end_GO = data_spdr['Price'].iloc[-1]\n",
    "\n",
    "#determine if dollar has gained or loss value from start to end of year,\n",
    "#necessary to calculate the return on the cash asset investment\n",
    "end_CA = data_us['Price'].iloc[-1]/data_us['Price'].iloc[0]\n",
    "\n",
    "#loop through portfolio instances\n",
    "for el in rows:\n",
    "    #number of shares acquired on 01/01/2020\n",
    "    sh_ST = float(el[0])/start_ST\n",
    "    sh_CB = float(el[1])/start_CB\n",
    "    sh_PB = float(el[2])/start_PB\n",
    "    sh_GO = float(el[3])/start_GO\n",
    "    sh_CA = float(el[4])/start_CA\n",
    "\n",
    "    sh_arr = [sh_ST, sh_CB, sh_PB, sh_GO, sh_CA]\n",
    "\n",
    "    #calculate buy_amount\n",
    "    buy_amount = 0\n",
    "    buy_amount += (sh_ST * start_ST) + \\\n",
    "                  (sh_CB * start_CB) + \\\n",
    "                  (sh_PB * start_PB) + \\\n",
    "                  (sh_GO * start_GO) + \\\n",
    "                  (sh_CA * start_CA)\n",
    "\n",
    "    #calculate current_value\n",
    "    current_value = 0\n",
    "    current_value += (sh_ST * end_ST) + \\\n",
    "                     (sh_CB * end_CB) + \\\n",
    "                     (sh_PB * end_PB) + \\\n",
    "                     (sh_GO * end_GO) + \\\n",
    "                     (sh_CA * end_CA)\n",
    "\n",
    "    return_portfolio = ((current_value - buy_amount)/buy_amount)*100\n",
    "\n",
    "    #calculate volatility\n",
    "\n",
    "    #first calculate the sequence of Values = {value_i}. The volatility will be calculated in function\n",
    "    #of this sequence\n",
    "    values = pd.DataFrame()\n",
    "    values['Date'] = []\n",
    "    values['val'] = []\n",
    "    #initial price and #shares is in\n",
    "    #value_i = sum(#shares bought on 01/01/2020  * buy_price) over 1 year\n",
    "\n",
    "    #loop through 365 items (fill missing spots)\n",
    "\n",
    "\n",
    "    for id, asset in enumerate(data):\n",
    "        #num_shares of asset now in consideration\n",
    "        #for every day of the period of interest\n",
    "        num_shares = sh_arr[id]\n",
    "        #retrieve price on i_th day\n",
    "\n",
    "        #append return to rows\n"
   ],
   "metadata": {
    "collapsed": false,
    "pycharm": {
     "name": "#%%\n"
    }
   }
  },
  {
   "cell_type": "markdown",
   "source": [
    "## Calculate volatility of portfolio"
   ],
   "metadata": {
    "collapsed": false,
    "pycharm": {
     "name": "#%% md\n"
    }
   }
  }
 ],
 "metadata": {
  "kernelspec": {
   "display_name": "Python 3",
   "language": "python",
   "name": "python3"
  },
  "language_info": {
   "codemirror_mode": {
    "name": "ipython",
    "version": 2
   },
   "file_extension": ".py",
   "mimetype": "text/x-python",
   "name": "python",
   "nbconvert_exporter": "python",
   "pygments_lexer": "ipython2",
   "version": "2.7.6"
  }
 },
 "nbformat": 4,
 "nbformat_minor": 0
}